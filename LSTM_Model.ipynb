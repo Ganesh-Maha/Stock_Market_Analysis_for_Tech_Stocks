{
  "nbformat": 4,
  "nbformat_minor": 0,
  "metadata": {
    "colab": {
      "provenance": []
    },
    "kernelspec": {
      "name": "python3",
      "display_name": "Python 3"
    },
    "language_info": {
      "name": "python"
    }
  },
  "cells": [
    {
      "cell_type": "code",
      "execution_count": null,
      "metadata": {
        "id": "dKntR0_5liGK"
      },
      "outputs": [],
      "source": [
        "import numpy as np\n",
        "import pandas as pd\n",
        "import matplotlib.pyplot as plt\n",
        "import seaborn as sns"
      ]
    },
    {
      "cell_type": "code",
      "source": [
        "df = pd.read_csv('/stocks.csv')\n",
        "df.head()"
      ],
      "metadata": {
        "colab": {
          "base_uri": "https://localhost:8080/",
          "height": 206
        },
        "id": "uDfTNV1cl8_o",
        "outputId": "c62d25e5-94e1-4570-d07f-567bbf62525a"
      },
      "execution_count": null,
      "outputs": [
        {
          "output_type": "execute_result",
          "data": {
            "text/plain": [
              "         Date         Open         High          Low        Close  \\\n",
              "0  04-01-2010  5200.899902  5238.450195  5167.100098  5232.200195   \n",
              "1  05-01-2010  5277.149902  5288.350098  5242.399902  5277.899902   \n",
              "2  06-01-2010  5278.149902  5310.850098  5260.049805  5281.799805   \n",
              "3  07-01-2010  5281.799805  5302.549805  5244.750000  5263.100098   \n",
              "4  08-01-2010  5264.250000  5276.750000  5234.700195  5244.750000   \n",
              "\n",
              "     Adj Close  Volume  \n",
              "0  5232.200195     0.0  \n",
              "1  5277.899902     0.0  \n",
              "2  5281.799805     0.0  \n",
              "3  5263.100098     0.0  \n",
              "4  5244.750000     0.0  "
            ],
            "text/html": [
              "\n",
              "  <div id=\"df-0099b440-4af5-4e6c-9dd4-6559637c14cb\">\n",
              "    <div class=\"colab-df-container\">\n",
              "      <div>\n",
              "<style scoped>\n",
              "    .dataframe tbody tr th:only-of-type {\n",
              "        vertical-align: middle;\n",
              "    }\n",
              "\n",
              "    .dataframe tbody tr th {\n",
              "        vertical-align: top;\n",
              "    }\n",
              "\n",
              "    .dataframe thead th {\n",
              "        text-align: right;\n",
              "    }\n",
              "</style>\n",
              "<table border=\"1\" class=\"dataframe\">\n",
              "  <thead>\n",
              "    <tr style=\"text-align: right;\">\n",
              "      <th></th>\n",
              "      <th>Date</th>\n",
              "      <th>Open</th>\n",
              "      <th>High</th>\n",
              "      <th>Low</th>\n",
              "      <th>Close</th>\n",
              "      <th>Adj Close</th>\n",
              "      <th>Volume</th>\n",
              "    </tr>\n",
              "  </thead>\n",
              "  <tbody>\n",
              "    <tr>\n",
              "      <th>0</th>\n",
              "      <td>04-01-2010</td>\n",
              "      <td>5200.899902</td>\n",
              "      <td>5238.450195</td>\n",
              "      <td>5167.100098</td>\n",
              "      <td>5232.200195</td>\n",
              "      <td>5232.200195</td>\n",
              "      <td>0.0</td>\n",
              "    </tr>\n",
              "    <tr>\n",
              "      <th>1</th>\n",
              "      <td>05-01-2010</td>\n",
              "      <td>5277.149902</td>\n",
              "      <td>5288.350098</td>\n",
              "      <td>5242.399902</td>\n",
              "      <td>5277.899902</td>\n",
              "      <td>5277.899902</td>\n",
              "      <td>0.0</td>\n",
              "    </tr>\n",
              "    <tr>\n",
              "      <th>2</th>\n",
              "      <td>06-01-2010</td>\n",
              "      <td>5278.149902</td>\n",
              "      <td>5310.850098</td>\n",
              "      <td>5260.049805</td>\n",
              "      <td>5281.799805</td>\n",
              "      <td>5281.799805</td>\n",
              "      <td>0.0</td>\n",
              "    </tr>\n",
              "    <tr>\n",
              "      <th>3</th>\n",
              "      <td>07-01-2010</td>\n",
              "      <td>5281.799805</td>\n",
              "      <td>5302.549805</td>\n",
              "      <td>5244.750000</td>\n",
              "      <td>5263.100098</td>\n",
              "      <td>5263.100098</td>\n",
              "      <td>0.0</td>\n",
              "    </tr>\n",
              "    <tr>\n",
              "      <th>4</th>\n",
              "      <td>08-01-2010</td>\n",
              "      <td>5264.250000</td>\n",
              "      <td>5276.750000</td>\n",
              "      <td>5234.700195</td>\n",
              "      <td>5244.750000</td>\n",
              "      <td>5244.750000</td>\n",
              "      <td>0.0</td>\n",
              "    </tr>\n",
              "  </tbody>\n",
              "</table>\n",
              "</div>\n",
              "      <button class=\"colab-df-convert\" onclick=\"convertToInteractive('df-0099b440-4af5-4e6c-9dd4-6559637c14cb')\"\n",
              "              title=\"Convert this dataframe to an interactive table.\"\n",
              "              style=\"display:none;\">\n",
              "        \n",
              "  <svg xmlns=\"http://www.w3.org/2000/svg\" height=\"24px\"viewBox=\"0 0 24 24\"\n",
              "       width=\"24px\">\n",
              "    <path d=\"M0 0h24v24H0V0z\" fill=\"none\"/>\n",
              "    <path d=\"M18.56 5.44l.94 2.06.94-2.06 2.06-.94-2.06-.94-.94-2.06-.94 2.06-2.06.94zm-11 1L8.5 8.5l.94-2.06 2.06-.94-2.06-.94L8.5 2.5l-.94 2.06-2.06.94zm10 10l.94 2.06.94-2.06 2.06-.94-2.06-.94-.94-2.06-.94 2.06-2.06.94z\"/><path d=\"M17.41 7.96l-1.37-1.37c-.4-.4-.92-.59-1.43-.59-.52 0-1.04.2-1.43.59L10.3 9.45l-7.72 7.72c-.78.78-.78 2.05 0 2.83L4 21.41c.39.39.9.59 1.41.59.51 0 1.02-.2 1.41-.59l7.78-7.78 2.81-2.81c.8-.78.8-2.07 0-2.86zM5.41 20L4 18.59l7.72-7.72 1.47 1.35L5.41 20z\"/>\n",
              "  </svg>\n",
              "      </button>\n",
              "      \n",
              "  <style>\n",
              "    .colab-df-container {\n",
              "      display:flex;\n",
              "      flex-wrap:wrap;\n",
              "      gap: 12px;\n",
              "    }\n",
              "\n",
              "    .colab-df-convert {\n",
              "      background-color: #E8F0FE;\n",
              "      border: none;\n",
              "      border-radius: 50%;\n",
              "      cursor: pointer;\n",
              "      display: none;\n",
              "      fill: #1967D2;\n",
              "      height: 32px;\n",
              "      padding: 0 0 0 0;\n",
              "      width: 32px;\n",
              "    }\n",
              "\n",
              "    .colab-df-convert:hover {\n",
              "      background-color: #E2EBFA;\n",
              "      box-shadow: 0px 1px 2px rgba(60, 64, 67, 0.3), 0px 1px 3px 1px rgba(60, 64, 67, 0.15);\n",
              "      fill: #174EA6;\n",
              "    }\n",
              "\n",
              "    [theme=dark] .colab-df-convert {\n",
              "      background-color: #3B4455;\n",
              "      fill: #D2E3FC;\n",
              "    }\n",
              "\n",
              "    [theme=dark] .colab-df-convert:hover {\n",
              "      background-color: #434B5C;\n",
              "      box-shadow: 0px 1px 3px 1px rgba(0, 0, 0, 0.15);\n",
              "      filter: drop-shadow(0px 1px 2px rgba(0, 0, 0, 0.3));\n",
              "      fill: #FFFFFF;\n",
              "    }\n",
              "  </style>\n",
              "\n",
              "      <script>\n",
              "        const buttonEl =\n",
              "          document.querySelector('#df-0099b440-4af5-4e6c-9dd4-6559637c14cb button.colab-df-convert');\n",
              "        buttonEl.style.display =\n",
              "          google.colab.kernel.accessAllowed ? 'block' : 'none';\n",
              "\n",
              "        async function convertToInteractive(key) {\n",
              "          const element = document.querySelector('#df-0099b440-4af5-4e6c-9dd4-6559637c14cb');\n",
              "          const dataTable =\n",
              "            await google.colab.kernel.invokeFunction('convertToInteractive',\n",
              "                                                     [key], {});\n",
              "          if (!dataTable) return;\n",
              "\n",
              "          const docLinkHtml = 'Like what you see? Visit the ' +\n",
              "            '<a target=\"_blank\" href=https://colab.research.google.com/notebooks/data_table.ipynb>data table notebook</a>'\n",
              "            + ' to learn more about interactive tables.';\n",
              "          element.innerHTML = '';\n",
              "          dataTable['output_type'] = 'display_data';\n",
              "          await google.colab.output.renderOutput(dataTable, element);\n",
              "          const docLink = document.createElement('div');\n",
              "          docLink.innerHTML = docLinkHtml;\n",
              "          element.appendChild(docLink);\n",
              "        }\n",
              "      </script>\n",
              "    </div>\n",
              "  </div>\n",
              "  "
            ]
          },
          "metadata": {},
          "execution_count": 1214
        }
      ]
    },
    {
      "cell_type": "code",
      "source": [
        "df.drop(columns=['Date'],axis=1,inplace=True)"
      ],
      "metadata": {
        "id": "W7LTw_Z8mLgX"
      },
      "execution_count": null,
      "outputs": []
    },
    {
      "cell_type": "code",
      "source": [
        "df.head()"
      ],
      "metadata": {
        "colab": {
          "base_uri": "https://localhost:8080/",
          "height": 206
        },
        "id": "fb6OnK4KmRwV",
        "outputId": "54d39de7-2e69-401a-df64-398b0bfd5822"
      },
      "execution_count": null,
      "outputs": [
        {
          "output_type": "execute_result",
          "data": {
            "text/plain": [
              "          Open         High          Low        Close    Adj Close  Volume\n",
              "0  5200.899902  5238.450195  5167.100098  5232.200195  5232.200195     0.0\n",
              "1  5277.149902  5288.350098  5242.399902  5277.899902  5277.899902     0.0\n",
              "2  5278.149902  5310.850098  5260.049805  5281.799805  5281.799805     0.0\n",
              "3  5281.799805  5302.549805  5244.750000  5263.100098  5263.100098     0.0\n",
              "4  5264.250000  5276.750000  5234.700195  5244.750000  5244.750000     0.0"
            ],
            "text/html": [
              "\n",
              "  <div id=\"df-674b7df5-e36b-4d67-9250-5dfa5a9ead16\">\n",
              "    <div class=\"colab-df-container\">\n",
              "      <div>\n",
              "<style scoped>\n",
              "    .dataframe tbody tr th:only-of-type {\n",
              "        vertical-align: middle;\n",
              "    }\n",
              "\n",
              "    .dataframe tbody tr th {\n",
              "        vertical-align: top;\n",
              "    }\n",
              "\n",
              "    .dataframe thead th {\n",
              "        text-align: right;\n",
              "    }\n",
              "</style>\n",
              "<table border=\"1\" class=\"dataframe\">\n",
              "  <thead>\n",
              "    <tr style=\"text-align: right;\">\n",
              "      <th></th>\n",
              "      <th>Open</th>\n",
              "      <th>High</th>\n",
              "      <th>Low</th>\n",
              "      <th>Close</th>\n",
              "      <th>Adj Close</th>\n",
              "      <th>Volume</th>\n",
              "    </tr>\n",
              "  </thead>\n",
              "  <tbody>\n",
              "    <tr>\n",
              "      <th>0</th>\n",
              "      <td>5200.899902</td>\n",
              "      <td>5238.450195</td>\n",
              "      <td>5167.100098</td>\n",
              "      <td>5232.200195</td>\n",
              "      <td>5232.200195</td>\n",
              "      <td>0.0</td>\n",
              "    </tr>\n",
              "    <tr>\n",
              "      <th>1</th>\n",
              "      <td>5277.149902</td>\n",
              "      <td>5288.350098</td>\n",
              "      <td>5242.399902</td>\n",
              "      <td>5277.899902</td>\n",
              "      <td>5277.899902</td>\n",
              "      <td>0.0</td>\n",
              "    </tr>\n",
              "    <tr>\n",
              "      <th>2</th>\n",
              "      <td>5278.149902</td>\n",
              "      <td>5310.850098</td>\n",
              "      <td>5260.049805</td>\n",
              "      <td>5281.799805</td>\n",
              "      <td>5281.799805</td>\n",
              "      <td>0.0</td>\n",
              "    </tr>\n",
              "    <tr>\n",
              "      <th>3</th>\n",
              "      <td>5281.799805</td>\n",
              "      <td>5302.549805</td>\n",
              "      <td>5244.750000</td>\n",
              "      <td>5263.100098</td>\n",
              "      <td>5263.100098</td>\n",
              "      <td>0.0</td>\n",
              "    </tr>\n",
              "    <tr>\n",
              "      <th>4</th>\n",
              "      <td>5264.250000</td>\n",
              "      <td>5276.750000</td>\n",
              "      <td>5234.700195</td>\n",
              "      <td>5244.750000</td>\n",
              "      <td>5244.750000</td>\n",
              "      <td>0.0</td>\n",
              "    </tr>\n",
              "  </tbody>\n",
              "</table>\n",
              "</div>\n",
              "      <button class=\"colab-df-convert\" onclick=\"convertToInteractive('df-674b7df5-e36b-4d67-9250-5dfa5a9ead16')\"\n",
              "              title=\"Convert this dataframe to an interactive table.\"\n",
              "              style=\"display:none;\">\n",
              "        \n",
              "  <svg xmlns=\"http://www.w3.org/2000/svg\" height=\"24px\"viewBox=\"0 0 24 24\"\n",
              "       width=\"24px\">\n",
              "    <path d=\"M0 0h24v24H0V0z\" fill=\"none\"/>\n",
              "    <path d=\"M18.56 5.44l.94 2.06.94-2.06 2.06-.94-2.06-.94-.94-2.06-.94 2.06-2.06.94zm-11 1L8.5 8.5l.94-2.06 2.06-.94-2.06-.94L8.5 2.5l-.94 2.06-2.06.94zm10 10l.94 2.06.94-2.06 2.06-.94-2.06-.94-.94-2.06-.94 2.06-2.06.94z\"/><path d=\"M17.41 7.96l-1.37-1.37c-.4-.4-.92-.59-1.43-.59-.52 0-1.04.2-1.43.59L10.3 9.45l-7.72 7.72c-.78.78-.78 2.05 0 2.83L4 21.41c.39.39.9.59 1.41.59.51 0 1.02-.2 1.41-.59l7.78-7.78 2.81-2.81c.8-.78.8-2.07 0-2.86zM5.41 20L4 18.59l7.72-7.72 1.47 1.35L5.41 20z\"/>\n",
              "  </svg>\n",
              "      </button>\n",
              "      \n",
              "  <style>\n",
              "    .colab-df-container {\n",
              "      display:flex;\n",
              "      flex-wrap:wrap;\n",
              "      gap: 12px;\n",
              "    }\n",
              "\n",
              "    .colab-df-convert {\n",
              "      background-color: #E8F0FE;\n",
              "      border: none;\n",
              "      border-radius: 50%;\n",
              "      cursor: pointer;\n",
              "      display: none;\n",
              "      fill: #1967D2;\n",
              "      height: 32px;\n",
              "      padding: 0 0 0 0;\n",
              "      width: 32px;\n",
              "    }\n",
              "\n",
              "    .colab-df-convert:hover {\n",
              "      background-color: #E2EBFA;\n",
              "      box-shadow: 0px 1px 2px rgba(60, 64, 67, 0.3), 0px 1px 3px 1px rgba(60, 64, 67, 0.15);\n",
              "      fill: #174EA6;\n",
              "    }\n",
              "\n",
              "    [theme=dark] .colab-df-convert {\n",
              "      background-color: #3B4455;\n",
              "      fill: #D2E3FC;\n",
              "    }\n",
              "\n",
              "    [theme=dark] .colab-df-convert:hover {\n",
              "      background-color: #434B5C;\n",
              "      box-shadow: 0px 1px 3px 1px rgba(0, 0, 0, 0.15);\n",
              "      filter: drop-shadow(0px 1px 2px rgba(0, 0, 0, 0.3));\n",
              "      fill: #FFFFFF;\n",
              "    }\n",
              "  </style>\n",
              "\n",
              "      <script>\n",
              "        const buttonEl =\n",
              "          document.querySelector('#df-674b7df5-e36b-4d67-9250-5dfa5a9ead16 button.colab-df-convert');\n",
              "        buttonEl.style.display =\n",
              "          google.colab.kernel.accessAllowed ? 'block' : 'none';\n",
              "\n",
              "        async function convertToInteractive(key) {\n",
              "          const element = document.querySelector('#df-674b7df5-e36b-4d67-9250-5dfa5a9ead16');\n",
              "          const dataTable =\n",
              "            await google.colab.kernel.invokeFunction('convertToInteractive',\n",
              "                                                     [key], {});\n",
              "          if (!dataTable) return;\n",
              "\n",
              "          const docLinkHtml = 'Like what you see? Visit the ' +\n",
              "            '<a target=\"_blank\" href=https://colab.research.google.com/notebooks/data_table.ipynb>data table notebook</a>'\n",
              "            + ' to learn more about interactive tables.';\n",
              "          element.innerHTML = '';\n",
              "          dataTable['output_type'] = 'display_data';\n",
              "          await google.colab.output.renderOutput(dataTable, element);\n",
              "          const docLink = document.createElement('div');\n",
              "          docLink.innerHTML = docLinkHtml;\n",
              "          element.appendChild(docLink);\n",
              "        }\n",
              "      </script>\n",
              "    </div>\n",
              "  </div>\n",
              "  "
            ]
          },
          "metadata": {},
          "execution_count": 1216
        }
      ]
    },
    {
      "cell_type": "code",
      "source": [
        "missing_rows = df.isnull().sum(axis=1)\n",
        "for i in range( len(missing_rows)):\n",
        "  if( missing_rows[i] == 6 ):\n",
        "    print( \"row \"+str(i)+\" missing\")"
      ],
      "metadata": {
        "colab": {
          "base_uri": "https://localhost:8080/"
        },
        "id": "_RDdFNf-mTCb",
        "outputId": "c4608224-d1d8-494d-f1cf-423b30ddb9b7"
      },
      "execution_count": null,
      "outputs": [
        {
          "output_type": "stream",
          "name": "stdout",
          "text": [
            "row 24 missing\n",
            "row 340 missing\n",
            "row 370 missing\n",
            "row 453 missing\n",
            "row 474 missing\n",
            "row 479 missing\n",
            "row 484 missing\n",
            "row 521 missing\n",
            "row 571 missing\n",
            "row 638 missing\n",
            "row 647 missing\n",
            "row 687 missing\n",
            "row 718 missing\n",
            "row 956 missing\n",
            "row 989 missing\n",
            "row 1010 missing\n",
            "row 1031 missing\n",
            "row 1144 missing\n",
            "row 1193 missing\n",
            "row 1231 missing\n",
            "row 1258 missing\n",
            "row 1430 missing\n",
            "row 1576 missing\n",
            "row 1904 missing\n",
            "row 2142 missing\n",
            "row 2332 missing\n",
            "row 2586 missing\n"
          ]
        }
      ]
    },
    {
      "cell_type": "code",
      "source": [
        "df.isnull().sum()"
      ],
      "metadata": {
        "colab": {
          "base_uri": "https://localhost:8080/"
        },
        "id": "8SDs8VzRnhCh",
        "outputId": "8591eade-87d7-4740-b6df-de6b55b8ffe5"
      },
      "execution_count": null,
      "outputs": [
        {
          "output_type": "execute_result",
          "data": {
            "text/plain": [
              "Open         27\n",
              "High         27\n",
              "Low          27\n",
              "Close        27\n",
              "Adj Close    27\n",
              "Volume       27\n",
              "dtype: int64"
            ]
          },
          "metadata": {},
          "execution_count": 1218
        }
      ]
    },
    {
      "cell_type": "code",
      "source": [
        "df=df.interpolate()"
      ],
      "metadata": {
        "id": "LfM2CPjJcge_"
      },
      "execution_count": null,
      "outputs": []
    },
    {
      "cell_type": "code",
      "source": [
        "## Testing on foreign data\n",
        "## 2 days model\n",
        "## Submission format"
      ],
      "metadata": {
        "id": "rzec5Im1K0TF"
      },
      "execution_count": null,
      "outputs": []
    },
    {
      "cell_type": "code",
      "source": [
        "df.isnull().sum()"
      ],
      "metadata": {
        "colab": {
          "base_uri": "https://localhost:8080/"
        },
        "id": "EAGKhPhYdacC",
        "outputId": "f7b3a590-d9d4-4223-c041-0fa4204d4123"
      },
      "execution_count": null,
      "outputs": [
        {
          "output_type": "execute_result",
          "data": {
            "text/plain": [
              "Open         0\n",
              "High         0\n",
              "Low          0\n",
              "Close        0\n",
              "Adj Close    0\n",
              "Volume       0\n",
              "dtype: int64"
            ]
          },
          "metadata": {},
          "execution_count": 1221
        }
      ]
    },
    {
      "cell_type": "code",
      "source": [
        "\n",
        "from sklearn.preprocessing import MinMaxScaler"
      ],
      "metadata": {
        "id": "T6kKczouyIjI"
      },
      "execution_count": null,
      "outputs": []
    },
    {
      "cell_type": "code",
      "source": [
        "df1=df.reset_index()['Close']"
      ],
      "metadata": {
        "id": "c5TuEPypbg-6"
      },
      "execution_count": null,
      "outputs": []
    },
    {
      "cell_type": "code",
      "source": [
        "df1"
      ],
      "metadata": {
        "id": "p1NGT57ayViV",
        "colab": {
          "base_uri": "https://localhost:8080/"
        },
        "outputId": "4681c710-5c5b-40c0-eb30-796d199b914e"
      },
      "execution_count": null,
      "outputs": [
        {
          "output_type": "execute_result",
          "data": {
            "text/plain": [
              "0        5232.200195\n",
              "1        5277.899902\n",
              "2        5281.799805\n",
              "3        5263.100098\n",
              "4        5244.750000\n",
              "            ...     \n",
              "2689    14485.000000\n",
              "2690    14653.049810\n",
              "2691    14864.549810\n",
              "2692    14894.900390\n",
              "2693    14631.099610\n",
              "Name: Close, Length: 2694, dtype: float64"
            ]
          },
          "metadata": {},
          "execution_count": 1224
        }
      ]
    },
    {
      "cell_type": "code",
      "source": [
        "scaled=MinMaxScaler(feature_range=(0,1))\n",
        "df1=scaled.fit_transform(np.array(df1).reshape(-1,1))"
      ],
      "metadata": {
        "id": "yZs277_Hdkk-"
      },
      "execution_count": null,
      "outputs": []
    },
    {
      "cell_type": "code",
      "source": [
        "df1"
      ],
      "metadata": {
        "colab": {
          "base_uri": "https://localhost:8080/"
        },
        "id": "VA12mg2dvm5M",
        "outputId": "7be73e75-0a23-40d1-bd83-8c69b307a19d"
      },
      "execution_count": null,
      "outputs": [
        {
          "output_type": "execute_result",
          "data": {
            "text/plain": [
              "array([[0.06387819],\n",
              "       [0.06812123],\n",
              "       [0.06848332],\n",
              "       ...,\n",
              "       [0.95820525],\n",
              "       [0.96102318],\n",
              "       [0.93653028]])"
            ]
          },
          "metadata": {},
          "execution_count": 1226
        }
      ]
    },
    {
      "cell_type": "code",
      "source": [
        "##splitting dataset into train and test split\n",
        "training_size=int(len(df1)*0.9)#70% of data will be used for training the model\n",
        "test_size=len(df1)-training_size\n",
        "train_data=df1[0:training_size,:]\n",
        "# test_data=df1[training_size-50:len(df1),:1]"
      ],
      "metadata": {
        "id": "bhMTxnZJyMPl"
      },
      "execution_count": null,
      "outputs": []
    },
    {
      "cell_type": "code",
      "source": [
        "\n",
        "train_data[80:82]"
      ],
      "metadata": {
        "colab": {
          "base_uri": "https://localhost:8080/"
        },
        "id": "7GZspwmd-4Ub",
        "outputId": "a21e021f-65f1-4ee8-f48d-741e5bec420a"
      },
      "execution_count": null,
      "outputs": [
        {
          "output_type": "execute_result",
          "data": {
            "text/plain": [
              "array([[0.05391576],\n",
              "       [0.05075437]])"
            ]
          },
          "metadata": {},
          "execution_count": 1228
        }
      ]
    },
    {
      "cell_type": "code",
      "source": [
        "#datastruct with 50 time-steps and 2 output\n",
        "x_train=[]\n",
        "y_train=[]\n",
        "\n",
        "for i in range(50, train_data.shape[0]):\n",
        "\tx_train.append(train_data[i-50:i,0]), y_train.append(train_data[i,0])\n",
        "\n",
        "x_train, y_train= np.array(x_train), np.array(y_train)"
      ],
      "metadata": {
        "id": "fOd-S2t_yc5R"
      },
      "execution_count": null,
      "outputs": []
    },
    {
      "cell_type": "code",
      "source": [
        "x_train.dtype\n"
      ],
      "metadata": {
        "colab": {
          "base_uri": "https://localhost:8080/"
        },
        "id": "bh06lWftSQe-",
        "outputId": "7e630d25-6c75-4a9d-bae2-29c36aad496e"
      },
      "execution_count": null,
      "outputs": [
        {
          "output_type": "execute_result",
          "data": {
            "text/plain": [
              "dtype('float64')"
            ]
          },
          "metadata": {},
          "execution_count": 1230
        }
      ]
    },
    {
      "cell_type": "code",
      "source": [
        "y_train.shape"
      ],
      "metadata": {
        "colab": {
          "base_uri": "https://localhost:8080/",
          "height": 178
        },
        "id": "7-FtvvfwObfo",
        "outputId": "3e61b7f6-7c18-4a6c-b49e-1bf1b2a71994"
      },
      "execution_count": null,
      "outputs": [
        {
          "output_type": "error",
          "ename": "NameError",
          "evalue": "ignored",
          "traceback": [
            "\u001b[0;31m---------------------------------------------------------------------------\u001b[0m",
            "\u001b[0;31mNameError\u001b[0m                                 Traceback (most recent call last)",
            "\u001b[0;32m<ipython-input-1-30602697b5a7>\u001b[0m in \u001b[0;36m<cell line: 1>\u001b[0;34m()\u001b[0m\n\u001b[0;32m----> 1\u001b[0;31m \u001b[0my_train\u001b[0m\u001b[0;34m.\u001b[0m\u001b[0mshape\u001b[0m\u001b[0;34m\u001b[0m\u001b[0;34m\u001b[0m\u001b[0m\n\u001b[0m",
            "\u001b[0;31mNameError\u001b[0m: name 'y_train' is not defined"
          ]
        }
      ]
    },
    {
      "cell_type": "code",
      "source": [
        "print(x_train.shape)\n",
        "print(x_train.dtype)\n",
        "print(y_train.shape)\n",
        "print(y_train.dtype)\n"
      ],
      "metadata": {
        "colab": {
          "base_uri": "https://localhost:8080/"
        },
        "id": "uXlIXF5ONbH2",
        "outputId": "ca67af77-bc7e-4c5f-e021-eb9783dc80a6"
      },
      "execution_count": null,
      "outputs": [
        {
          "output_type": "stream",
          "name": "stdout",
          "text": [
            "(2374, 50)\n",
            "float64\n",
            "(2374,)\n",
            "float64\n"
          ]
        }
      ]
    },
    {
      "cell_type": "code",
      "source": [
        "## ML model\n",
        "from keras.layers import Dense, Dropout, LSTM\n",
        "from keras.models import Sequential\n",
        "\n",
        "model=Sequential()\n",
        "model.add(LSTM(units=100, return_sequences= True, input_shape=(x_train.shape[1],1)))\n",
        "\n",
        "model.add(LSTM(units=80, return_sequences= True ))\n",
        "\n",
        "# model.add(LSTM(units=60, return_sequences= True ))\n",
        "\n",
        "model.add(LSTM(units=60))\n",
        "\n",
        "\n",
        "model.add(Dense(units=1))"
      ],
      "metadata": {
        "id": "pTjVwr1Mz62w"
      },
      "execution_count": null,
      "outputs": []
    },
    {
      "cell_type": "code",
      "source": [
        "model.summary()"
      ],
      "metadata": {
        "colab": {
          "base_uri": "https://localhost:8080/"
        },
        "id": "56OWoLI8DZvg",
        "outputId": "9a77a06a-6e56-4d21-ad54-2a72aa8e0320"
      },
      "execution_count": null,
      "outputs": [
        {
          "output_type": "stream",
          "name": "stdout",
          "text": [
            "Model: \"sequential_28\"\n",
            "_________________________________________________________________\n",
            " Layer (type)                Output Shape              Param #   \n",
            "=================================================================\n",
            " lstm_109 (LSTM)             (None, 50, 100)           40800     \n",
            "                                                                 \n",
            " lstm_110 (LSTM)             (None, 50, 80)            57920     \n",
            "                                                                 \n",
            " lstm_111 (LSTM)             (None, 60)                33840     \n",
            "                                                                 \n",
            " dense_27 (Dense)            (None, 1)                 61        \n",
            "                                                                 \n",
            "=================================================================\n",
            "Total params: 132,621\n",
            "Trainable params: 132,621\n",
            "Non-trainable params: 0\n",
            "_________________________________________________________________\n"
          ]
        }
      ]
    },
    {
      "cell_type": "code",
      "source": [
        "\n",
        "# Compile the model\n",
        "model.compile(optimizer='adam', loss='mean_squared_error')\n",
        "\n",
        "# Train the model\n",
        "model.fit(x_train, y_train, epochs=50, batch_size = 64, validation_data = (x_train, y_train))"
      ],
      "metadata": {
        "colab": {
          "base_uri": "https://localhost:8080/"
        },
        "id": "FuGsGjCXJPWW",
        "outputId": "c62a7664-5cde-49ab-dd4b-f76cbdf30e5c"
      },
      "execution_count": null,
      "outputs": [
        {
          "output_type": "stream",
          "name": "stdout",
          "text": [
            "Epoch 1/50\n",
            "38/38 [==============================] - 18s 325ms/step - loss: 0.0122 - val_loss: 5.8379e-04\n",
            "Epoch 2/50\n",
            "38/38 [==============================] - 11s 289ms/step - loss: 5.5356e-04 - val_loss: 4.0914e-04\n",
            "Epoch 3/50\n",
            "38/38 [==============================] - 11s 292ms/step - loss: 4.1025e-04 - val_loss: 4.0269e-04\n",
            "Epoch 4/50\n",
            "38/38 [==============================] - 14s 384ms/step - loss: 4.2556e-04 - val_loss: 4.4367e-04\n",
            "Epoch 5/50\n",
            "38/38 [==============================] - 11s 292ms/step - loss: 4.8527e-04 - val_loss: 3.8099e-04\n",
            "Epoch 6/50\n",
            "38/38 [==============================] - 11s 289ms/step - loss: 3.9288e-04 - val_loss: 4.6351e-04\n",
            "Epoch 7/50\n",
            "38/38 [==============================] - 13s 338ms/step - loss: 4.1046e-04 - val_loss: 4.2460e-04\n",
            "Epoch 8/50\n",
            "38/38 [==============================] - 12s 323ms/step - loss: 4.0414e-04 - val_loss: 3.9474e-04\n",
            "Epoch 9/50\n",
            "38/38 [==============================] - 12s 325ms/step - loss: 3.6089e-04 - val_loss: 3.7552e-04\n",
            "Epoch 10/50\n",
            "38/38 [==============================] - 12s 324ms/step - loss: 3.7462e-04 - val_loss: 5.9403e-04\n",
            "Epoch 11/50\n",
            "38/38 [==============================] - 12s 322ms/step - loss: 3.6500e-04 - val_loss: 3.2190e-04\n",
            "Epoch 12/50\n",
            "38/38 [==============================] - 10s 264ms/step - loss: 3.3182e-04 - val_loss: 3.5432e-04\n",
            "Epoch 13/50\n",
            "38/38 [==============================] - 10s 273ms/step - loss: 3.3543e-04 - val_loss: 5.1200e-04\n",
            "Epoch 14/50\n",
            "38/38 [==============================] - 11s 293ms/step - loss: 3.3893e-04 - val_loss: 3.0852e-04\n",
            "Epoch 15/50\n",
            "38/38 [==============================] - 11s 291ms/step - loss: 2.9914e-04 - val_loss: 3.1630e-04\n",
            "Epoch 16/50\n",
            "38/38 [==============================] - 12s 325ms/step - loss: 3.2014e-04 - val_loss: 5.0631e-04\n",
            "Epoch 17/50\n",
            "38/38 [==============================] - 12s 328ms/step - loss: 3.4815e-04 - val_loss: 2.7240e-04\n",
            "Epoch 18/50\n",
            "38/38 [==============================] - 12s 324ms/step - loss: 3.0735e-04 - val_loss: 3.1607e-04\n",
            "Epoch 19/50\n",
            "38/38 [==============================] - 10s 263ms/step - loss: 3.3368e-04 - val_loss: 2.7375e-04\n",
            "Epoch 20/50\n",
            "38/38 [==============================] - 11s 294ms/step - loss: 2.7309e-04 - val_loss: 2.5538e-04\n",
            "Epoch 21/50\n",
            "38/38 [==============================] - 11s 295ms/step - loss: 2.6240e-04 - val_loss: 2.5837e-04\n",
            "Epoch 22/50\n",
            "38/38 [==============================] - 11s 294ms/step - loss: 3.2199e-04 - val_loss: 2.5647e-04\n",
            "Epoch 23/50\n",
            "38/38 [==============================] - 11s 292ms/step - loss: 2.5754e-04 - val_loss: 3.5407e-04\n",
            "Epoch 24/50\n",
            "38/38 [==============================] - 11s 293ms/step - loss: 2.6597e-04 - val_loss: 2.3133e-04\n",
            "Epoch 25/50\n",
            "38/38 [==============================] - 12s 322ms/step - loss: 2.8900e-04 - val_loss: 2.5060e-04\n",
            "Epoch 26/50\n",
            "38/38 [==============================] - 12s 322ms/step - loss: 2.4615e-04 - val_loss: 5.0314e-04\n",
            "Epoch 27/50\n",
            "38/38 [==============================] - 12s 323ms/step - loss: 3.3960e-04 - val_loss: 3.0563e-04\n",
            "Epoch 28/50\n",
            "38/38 [==============================] - 12s 327ms/step - loss: 3.0696e-04 - val_loss: 2.1867e-04\n",
            "Epoch 29/50\n",
            "38/38 [==============================] - 10s 257ms/step - loss: 2.1651e-04 - val_loss: 2.4424e-04\n",
            "Epoch 30/50\n",
            "38/38 [==============================] - 11s 285ms/step - loss: 2.2453e-04 - val_loss: 2.2515e-04\n",
            "Epoch 31/50\n",
            "38/38 [==============================] - 11s 292ms/step - loss: 2.3328e-04 - val_loss: 3.1411e-04\n",
            "Epoch 32/50\n",
            "38/38 [==============================] - 11s 292ms/step - loss: 2.9387e-04 - val_loss: 2.2188e-04\n",
            "Epoch 33/50\n",
            "38/38 [==============================] - 11s 289ms/step - loss: 2.2160e-04 - val_loss: 2.0373e-04\n",
            "Epoch 34/50\n",
            "38/38 [==============================] - 11s 283ms/step - loss: 2.0014e-04 - val_loss: 2.4619e-04\n",
            "Epoch 35/50\n",
            "38/38 [==============================] - 10s 254ms/step - loss: 1.9399e-04 - val_loss: 1.8989e-04\n",
            "Epoch 36/50\n",
            "38/38 [==============================] - 14s 362ms/step - loss: 2.0290e-04 - val_loss: 1.9469e-04\n",
            "Epoch 37/50\n",
            "38/38 [==============================] - 11s 289ms/step - loss: 2.0248e-04 - val_loss: 1.7792e-04\n",
            "Epoch 38/50\n",
            "38/38 [==============================] - 11s 292ms/step - loss: 1.8315e-04 - val_loss: 2.2757e-04\n",
            "Epoch 39/50\n",
            "38/38 [==============================] - 11s 290ms/step - loss: 2.2031e-04 - val_loss: 2.8464e-04\n",
            "Epoch 40/50\n",
            "38/38 [==============================] - 11s 289ms/step - loss: 2.4305e-04 - val_loss: 2.1979e-04\n",
            "Epoch 41/50\n",
            "38/38 [==============================] - 12s 324ms/step - loss: 1.7890e-04 - val_loss: 2.2011e-04\n",
            "Epoch 42/50\n",
            "38/38 [==============================] - 12s 322ms/step - loss: 1.6666e-04 - val_loss: 1.5242e-04\n",
            "Epoch 43/50\n",
            "38/38 [==============================] - 10s 268ms/step - loss: 1.6086e-04 - val_loss: 1.4989e-04\n",
            "Epoch 44/50\n",
            "38/38 [==============================] - 10s 271ms/step - loss: 1.8331e-04 - val_loss: 1.5591e-04\n",
            "Epoch 45/50\n",
            "38/38 [==============================] - 11s 292ms/step - loss: 1.5825e-04 - val_loss: 1.6812e-04\n",
            "Epoch 46/50\n",
            "38/38 [==============================] - 11s 292ms/step - loss: 1.5649e-04 - val_loss: 1.8525e-04\n",
            "Epoch 47/50\n",
            "38/38 [==============================] - 11s 290ms/step - loss: 1.5952e-04 - val_loss: 1.4692e-04\n",
            "Epoch 48/50\n",
            "38/38 [==============================] - 12s 323ms/step - loss: 1.4544e-04 - val_loss: 1.4027e-04\n",
            "Epoch 49/50\n",
            "38/38 [==============================] - 12s 321ms/step - loss: 1.6108e-04 - val_loss: 2.7356e-04\n",
            "Epoch 50/50\n",
            "38/38 [==============================] - 10s 265ms/step - loss: 1.8773e-04 - val_loss: 1.2719e-04\n"
          ]
        },
        {
          "output_type": "execute_result",
          "data": {
            "text/plain": [
              "<keras.callbacks.History at 0x7f7853b9ad40>"
            ]
          },
          "metadata": {},
          "execution_count": 1235
        }
      ]
    },
    {
      "cell_type": "code",
      "source": [
        "model.save(\"model_gorigand.h5\")"
      ],
      "metadata": {
        "id": "eX_fXYriMOwh"
      },
      "execution_count": null,
      "outputs": []
    },
    {
      "cell_type": "code",
      "source": [
        "# test_data.shape"
      ],
      "metadata": {
        "id": "7FbHgMXdcjoy"
      },
      "execution_count": null,
      "outputs": []
    },
    {
      "cell_type": "code",
      "source": [
        "#test\n",
        "x_test=[]\n",
        "y_test=[]\n",
        "\n",
        "for i in range(50, len(test_data)):\n",
        "  x_test.append(test_data[i-50:i]), y_test.append(test_data[i])"
      ],
      "metadata": {
        "id": "4WwEY6SIfczr"
      },
      "execution_count": null,
      "outputs": []
    },
    {
      "cell_type": "code",
      "source": [
        "x_test=np.array(x_test)\n",
        "y_test=np.array(y_test)"
      ],
      "metadata": {
        "id": "YPi-FMHnjWJg"
      },
      "execution_count": null,
      "outputs": []
    },
    {
      "cell_type": "code",
      "source": [
        "#x_test.shape"
      ],
      "metadata": {
        "id": "kfHOfbHLWCfc"
      },
      "execution_count": null,
      "outputs": []
    },
    {
      "cell_type": "code",
      "source": [
        "y_predicted=model.predict(x_test)"
      ],
      "metadata": {
        "colab": {
          "base_uri": "https://localhost:8080/"
        },
        "id": "E_bQ-efYjdZ9",
        "outputId": "77b1f5ca-02c8-4d1f-aa7b-d3510ac81a74"
      },
      "execution_count": null,
      "outputs": [
        {
          "output_type": "stream",
          "name": "stdout",
          "text": [
            "9/9 [==============================] - 2s 50ms/step\n"
          ]
        }
      ]
    },
    {
      "cell_type": "code",
      "source": [
        "y_predicted.shape"
      ],
      "metadata": {
        "colab": {
          "base_uri": "https://localhost:8080/"
        },
        "id": "IdYAQQF6jzit",
        "outputId": "9cf3f1c2-00ca-4df8-8f2a-3c32057cdbef"
      },
      "execution_count": null,
      "outputs": [
        {
          "output_type": "execute_result",
          "data": {
            "text/plain": [
              "(270, 1)"
            ]
          },
          "metadata": {},
          "execution_count": 1242
        }
      ]
    },
    {
      "cell_type": "code",
      "source": [
        "y_test.shape"
      ],
      "metadata": {
        "colab": {
          "base_uri": "https://localhost:8080/"
        },
        "id": "tIwjw72Rj3IQ",
        "outputId": "22a2141b-9d51-49a7-ab2e-a74c8b2aea55"
      },
      "execution_count": null,
      "outputs": [
        {
          "output_type": "execute_result",
          "data": {
            "text/plain": [
              "(270, 1)"
            ]
          },
          "metadata": {},
          "execution_count": 1243
        }
      ]
    },
    {
      "cell_type": "code",
      "source": [
        "y_predicted = scaled.inverse_transform(y_predicted)"
      ],
      "metadata": {
        "id": "J8CsUycihoNF"
      },
      "execution_count": null,
      "outputs": []
    },
    {
      "cell_type": "code",
      "source": [
        "y_test = scaled.inverse_transform(y_test)"
      ],
      "metadata": {
        "id": "2r2zCyArhvIB"
      },
      "execution_count": null,
      "outputs": []
    },
    {
      "cell_type": "code",
      "source": [
        "error_array = y_test - y_predicted\n",
        "#error_array"
      ],
      "metadata": {
        "id": "gXLlhLS4iJI3"
      },
      "execution_count": null,
      "outputs": []
    },
    {
      "cell_type": "code",
      "source": [
        "error = 0\n",
        "for i in range( len(error_array)):\n",
        "  error += (error_array[i]**2)"
      ],
      "metadata": {
        "id": "SsHJBgqXP__T"
      },
      "execution_count": null,
      "outputs": []
    },
    {
      "cell_type": "code",
      "source": [
        "error = error/(len(error_array))\n",
        "error\n"
      ],
      "metadata": {
        "colab": {
          "base_uri": "https://localhost:8080/"
        },
        "id": "AqzUYZzWikiN",
        "outputId": "a05767a4-83e9-4b64-8815-fd1da07f49cc"
      },
      "execution_count": null,
      "outputs": [
        {
          "output_type": "execute_result",
          "data": {
            "text/plain": [
              "array([68952.72184357])"
            ]
          },
          "metadata": {},
          "execution_count": 1248
        }
      ]
    },
    {
      "cell_type": "code",
      "source": [
        "plt.figure(figsize=(12,6))\n",
        "plt.plot(y_test, 'b', label='original')\n",
        "plt.plot(y_predicted, 'r', label='predicted')\n",
        "plt.xlabel('time')\n",
        "plt.ylabel('price')\n",
        "plt.legend()\n",
        "plt.show()"
      ],
      "metadata": {
        "colab": {
          "base_uri": "https://localhost:8080/",
          "height": 542
        },
        "id": "TGETV74UkNdy",
        "outputId": "440ac30a-26b3-49f3-8afe-e24108c15fc3"
      },
      "execution_count": null,
      "outputs": [
        {
          "output_type": "display_data",
          "data": {
            "text/plain": [
              "<Figure size 1200x600 with 1 Axes>"
            ],
            "image/png": "[encoded data removed]"
          },
          "metadata": {}
        }
      ]
    },
    {
      "cell_type": "code",
      "source": [
        "sample_input = pd.read_csv('/content/sample_input.csv')\n",
        "sample_input.head()"
      ],
      "metadata": {
        "id": "HZet3UqhnF7g",
        "colab": {
          "base_uri": "https://localhost:8080/",
          "height": 206
        },
        "outputId": "1602c74f-b36f-42c7-d11b-07af4c405734"
      },
      "execution_count": null,
      "outputs": [
        {
          "output_type": "execute_result",
          "data": {
            "text/plain": [
              "         Date         Open         High          Low        Close  \\\n",
              "0  2014-03-03  6264.350098  6277.750000  6212.250000  6221.450195   \n",
              "1  2014-03-04  6216.750000  6302.149902  6215.700195  6297.950195   \n",
              "2  2014-03-07  6413.950195  6537.799805  6413.549805  6526.649902   \n",
              "3  2014-03-10  6491.700195  6562.200195  6487.350098  6537.250000   \n",
              "4  2014-03-11  6537.350098  6562.850098  6494.250000  6511.899902   \n",
              "\n",
              "     Adj Close    Volume  \n",
              "0  6221.450195  144600.0  \n",
              "1  6297.950195  166800.0  \n",
              "2  6526.649902  284900.0  \n",
              "3  6537.250000  242100.0  \n",
              "4  6511.899902  239000.0  "
            ],
            "text/html": [
              "\n",
              "  <div id=\"df-03d26bf6-9a64-40a8-964c-fda006a063a3\">\n",
              "    <div class=\"colab-df-container\">\n",
              "      <div>\n",
              "<style scoped>\n",
              "    .dataframe tbody tr th:only-of-type {\n",
              "        vertical-align: middle;\n",
              "    }\n",
              "\n",
              "    .dataframe tbody tr th {\n",
              "        vertical-align: top;\n",
              "    }\n",
              "\n",
              "    .dataframe thead th {\n",
              "        text-align: right;\n",
              "    }\n",
              "</style>\n",
              "<table border=\"1\" class=\"dataframe\">\n",
              "  <thead>\n",
              "    <tr style=\"text-align: right;\">\n",
              "      <th></th>\n",
              "      <th>Date</th>\n",
              "      <th>Open</th>\n",
              "      <th>High</th>\n",
              "      <th>Low</th>\n",
              "      <th>Close</th>\n",
              "      <th>Adj Close</th>\n",
              "      <th>Volume</th>\n",
              "    </tr>\n",
              "  </thead>\n",
              "  <tbody>\n",
              "    <tr>\n",
              "      <th>0</th>\n",
              "      <td>2014-03-03</td>\n",
              "      <td>6264.350098</td>\n",
              "      <td>6277.750000</td>\n",
              "      <td>6212.250000</td>\n",
              "      <td>6221.450195</td>\n",
              "      <td>6221.450195</td>\n",
              "      <td>144600.0</td>\n",
              "    </tr>\n",
              "    <tr>\n",
              "      <th>1</th>\n",
              "      <td>2014-03-04</td>\n",
              "      <td>6216.750000</td>\n",
              "      <td>6302.149902</td>\n",
              "      <td>6215.700195</td>\n",
              "      <td>6297.950195</td>\n",
              "      <td>6297.950195</td>\n",
              "      <td>166800.0</td>\n",
              "    </tr>\n",
              "    <tr>\n",
              "      <th>2</th>\n",
              "      <td>2014-03-07</td>\n",
              "      <td>6413.950195</td>\n",
              "      <td>6537.799805</td>\n",
              "      <td>6413.549805</td>\n",
              "      <td>6526.649902</td>\n",
              "      <td>6526.649902</td>\n",
              "      <td>284900.0</td>\n",
              "    </tr>\n",
              "    <tr>\n",
              "      <th>3</th>\n",
              "      <td>2014-03-10</td>\n",
              "      <td>6491.700195</td>\n",
              "      <td>6562.200195</td>\n",
              "      <td>6487.350098</td>\n",
              "      <td>6537.250000</td>\n",
              "      <td>6537.250000</td>\n",
              "      <td>242100.0</td>\n",
              "    </tr>\n",
              "    <tr>\n",
              "      <th>4</th>\n",
              "      <td>2014-03-11</td>\n",
              "      <td>6537.350098</td>\n",
              "      <td>6562.850098</td>\n",
              "      <td>6494.250000</td>\n",
              "      <td>6511.899902</td>\n",
              "      <td>6511.899902</td>\n",
              "      <td>239000.0</td>\n",
              "    </tr>\n",
              "  </tbody>\n",
              "</table>\n",
              "</div>\n",
              "      <button class=\"colab-df-convert\" onclick=\"convertToInteractive('df-03d26bf6-9a64-40a8-964c-fda006a063a3')\"\n",
              "              title=\"Convert this dataframe to an interactive table.\"\n",
              "              style=\"display:none;\">\n",
              "        \n",
              "  <svg xmlns=\"http://www.w3.org/2000/svg\" height=\"24px\"viewBox=\"0 0 24 24\"\n",
              "       width=\"24px\">\n",
              "    <path d=\"M0 0h24v24H0V0z\" fill=\"none\"/>\n",
              "    <path d=\"M18.56 5.44l.94 2.06.94-2.06 2.06-.94-2.06-.94-.94-2.06-.94 2.06-2.06.94zm-11 1L8.5 8.5l.94-2.06 2.06-.94-2.06-.94L8.5 2.5l-.94 2.06-2.06.94zm10 10l.94 2.06.94-2.06 2.06-.94-2.06-.94-.94-2.06-.94 2.06-2.06.94z\"/><path d=\"M17.41 7.96l-1.37-1.37c-.4-.4-.92-.59-1.43-.59-.52 0-1.04.2-1.43.59L10.3 9.45l-7.72 7.72c-.78.78-.78 2.05 0 2.83L4 21.41c.39.39.9.59 1.41.59.51 0 1.02-.2 1.41-.59l7.78-7.78 2.81-2.81c.8-.78.8-2.07 0-2.86zM5.41 20L4 18.59l7.72-7.72 1.47 1.35L5.41 20z\"/>\n",
              "  </svg>\n",
              "      </button>\n",
              "      \n",
              "  <style>\n",
              "    .colab-df-container {\n",
              "      display:flex;\n",
              "      flex-wrap:wrap;\n",
              "      gap: 12px;\n",
              "    }\n",
              "\n",
              "    .colab-df-convert {\n",
              "      background-color: #E8F0FE;\n",
              "      border: none;\n",
              "      border-radius: 50%;\n",
              "      cursor: pointer;\n",
              "      display: none;\n",
              "      fill: #1967D2;\n",
              "      height: 32px;\n",
              "      padding: 0 0 0 0;\n",
              "      width: 32px;\n",
              "    }\n",
              "\n",
              "    .colab-df-convert:hover {\n",
              "      background-color: #E2EBFA;\n",
              "      box-shadow: 0px 1px 2px rgba(60, 64, 67, 0.3), 0px 1px 3px 1px rgba(60, 64, 67, 0.15);\n",
              "      fill: #174EA6;\n",
              "    }\n",
              "\n",
              "    [theme=dark] .colab-df-convert {\n",
              "      background-color: #3B4455;\n",
              "      fill: #D2E3FC;\n",
              "    }\n",
              "\n",
              "    [theme=dark] .colab-df-convert:hover {\n",
              "      background-color: #434B5C;\n",
              "      box-shadow: 0px 1px 3px 1px rgba(0, 0, 0, 0.15);\n",
              "      filter: drop-shadow(0px 1px 2px rgba(0, 0, 0, 0.3));\n",
              "      fill: #FFFFFF;\n",
              "    }\n",
              "  </style>\n",
              "\n",
              "      <script>\n",
              "        const buttonEl =\n",
              "          document.querySelector('#df-03d26bf6-9a64-40a8-964c-fda006a063a3 button.colab-df-convert');\n",
              "        buttonEl.style.display =\n",
              "          google.colab.kernel.accessAllowed ? 'block' : 'none';\n",
              "\n",
              "        async function convertToInteractive(key) {\n",
              "          const element = document.querySelector('#df-03d26bf6-9a64-40a8-964c-fda006a063a3');\n",
              "          const dataTable =\n",
              "            await google.colab.kernel.invokeFunction('convertToInteractive',\n",
              "                                                     [key], {});\n",
              "          if (!dataTable) return;\n",
              "\n",
              "          const docLinkHtml = 'Like what you see? Visit the ' +\n",
              "            '<a target=\"_blank\" href=https://colab.research.google.com/notebooks/data_table.ipynb>data table notebook</a>'\n",
              "            + ' to learn more about interactive tables.';\n",
              "          element.innerHTML = '';\n",
              "          dataTable['output_type'] = 'display_data';\n",
              "          await google.colab.output.renderOutput(dataTable, element);\n",
              "          const docLink = document.createElement('div');\n",
              "          docLink.innerHTML = docLinkHtml;\n",
              "          element.appendChild(docLink);\n",
              "        }\n",
              "      </script>\n",
              "    </div>\n",
              "  </div>\n",
              "  "
            ]
          },
          "metadata": {},
          "execution_count": 1250
        }
      ]
    },
    {
      "cell_type": "code",
      "source": [
        "sample_input = sample_input.interpolate()\n",
        "sample_input.isnull().sum()"
      ],
      "metadata": {
        "colab": {
          "base_uri": "https://localhost:8080/"
        },
        "id": "vkvfSIgoR9om",
        "outputId": "1caa2fc8-fc36-44b0-d164-9cfa8936fb61"
      },
      "execution_count": null,
      "outputs": [
        {
          "output_type": "execute_result",
          "data": {
            "text/plain": [
              "Date         0\n",
              "Open         0\n",
              "High         0\n",
              "Low          0\n",
              "Close        0\n",
              "Adj Close    0\n",
              "Volume       0\n",
              "dtype: int64"
            ]
          },
          "metadata": {},
          "execution_count": 1251
        }
      ]
    },
    {
      "cell_type": "code",
      "source": [
        "sample_close = sample_input['Adj Close']\n",
        "sample_close=scaled.fit_transform(np.array(sample_close).reshape(-1,1))"
      ],
      "metadata": {
        "id": "cr2M_0rCSmk2"
      },
      "execution_count": null,
      "outputs": []
    },
    {
      "cell_type": "code",
      "source": [
        "sample_x = []\n",
        "sample_x.append( sample_close[0:50])"
      ],
      "metadata": {
        "id": "9i-vCX7BTiV-"
      },
      "execution_count": null,
      "outputs": []
    },
    {
      "cell_type": "code",
      "source": [
        "sample_x = np.array(sample_x)"
      ],
      "metadata": {
        "id": "n0hVOelVUbhd"
      },
      "execution_count": null,
      "outputs": []
    },
    {
      "cell_type": "code",
      "source": [
        "sample_x.shape"
      ],
      "metadata": {
        "colab": {
          "base_uri": "https://localhost:8080/"
        },
        "id": "Kn1lSZRQUco6",
        "outputId": "fea8d05f-7bf3-4438-cee5-e4777ad2c445"
      },
      "execution_count": null,
      "outputs": [
        {
          "output_type": "execute_result",
          "data": {
            "text/plain": [
              "(1, 50, 1)"
            ]
          },
          "metadata": {},
          "execution_count": 1255
        }
      ]
    },
    {
      "cell_type": "code",
      "source": [
        "my_prediction = model.predict(sample_x)"
      ],
      "metadata": {
        "colab": {
          "base_uri": "https://localhost:8080/"
        },
        "id": "JAKQCiKdUqQw",
        "outputId": "8c004d06-dbd2-4351-b61e-eab1678012a6"
      },
      "execution_count": null,
      "outputs": [
        {
          "output_type": "stream",
          "name": "stdout",
          "text": [
            "1/1 [==============================] - 0s 48ms/step\n"
          ]
        }
      ]
    },
    {
      "cell_type": "code",
      "source": [
        "my_prediction = scaled.inverse_transform(my_prediction)"
      ],
      "metadata": {
        "id": "7R6Jm5_6Vx9V"
      },
      "execution_count": null,
      "outputs": []
    },
    {
      "cell_type": "code",
      "source": [
        "my_prediction"
      ],
      "metadata": {
        "colab": {
          "base_uri": "https://localhost:8080/"
        },
        "id": "al27hSLZWgLb",
        "outputId": "a47ccc33-f163-4af7-c1f1-90b68ab6b92a"
      },
      "execution_count": null,
      "outputs": [
        {
          "output_type": "execute_result",
          "data": {
            "text/plain": [
              "array([[7234.0386]], dtype=float32)"
            ]
          },
          "metadata": {},
          "execution_count": 1258
        }
      ]
    },
    {
      "cell_type": "code",
      "source": [
        "\n",
        "actual_close = 7232.200195\n",
        "pred_close = 7234.0386\n",
        "mean_square_error = np.mean(np.square(actual_close-pred_close))\n",
        "print(f'Mean Square Error: {mean_square_error:.6f}')"
      ],
      "metadata": {
        "colab": {
          "base_uri": "https://localhost:8080/"
        },
        "id": "s1ERudKGWhv_",
        "outputId": "840a474e-3cd1-41a3-f0f3-852f643b8540"
      },
      "execution_count": null,
      "outputs": [
        {
          "output_type": "stream",
          "name": "stdout",
          "text": [
            "Mean Square Error: 3.379733\n"
          ]
        }
      ]
    },
    {
      "cell_type": "code",
      "source": [
        "np.sqrt(mean_square_error)\n"
      ],
      "metadata": {
        "colab": {
          "base_uri": "https://localhost:8080/"
        },
        "id": "C8NRhO6xZI2C",
        "outputId": "84a49c42-592b-4cf6-8833-18fa48d1f055"
      },
      "execution_count": null,
      "outputs": [
        {
          "output_type": "execute_result",
          "data": {
            "text/plain": [
              "9.30719500000032"
            ]
          },
          "metadata": {},
          "execution_count": 1260
        }
      ]
    },
    {
      "cell_type": "code",
      "source": [],
      "metadata": {
        "id": "cjGyYWcOZTz2"
      },
      "execution_count": null,
      "outputs": []
    }
  ]
}